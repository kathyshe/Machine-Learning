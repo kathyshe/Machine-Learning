{
  "nbformat": 4,
  "nbformat_minor": 0,
  "metadata": {
    "colab": {
      "provenance": [],
      "authorship_tag": "ABX9TyP4LNs2QHFHjqQ0VlmWbe8K",
      "include_colab_link": true
    },
    "kernelspec": {
      "name": "python3",
      "display_name": "Python 3"
    },
    "language_info": {
      "name": "python"
    }
  },
  "cells": [
    {
      "cell_type": "markdown",
      "metadata": {
        "id": "view-in-github",
        "colab_type": "text"
      },
      "source": [
        "<a href=\"https://colab.research.google.com/github/kathyshe/Machine-Learning/blob/main/knn_from_scratch.ipynb\" target=\"_parent\"><img src=\"https://colab.research.google.com/assets/colab-badge.svg\" alt=\"Open In Colab\"/></a>"
      ]
    },
    {
      "cell_type": "code",
      "execution_count": 1,
      "metadata": {
        "colab": {
          "base_uri": "https://localhost:8080/",
          "height": 70
        },
        "id": "Z4VM9WbeaoHX",
        "outputId": "47eb38b5-5d57-4014-cb1e-a182270fa141"
      },
      "outputs": [
        {
          "output_type": "stream",
          "name": "stdout",
          "text": [
            "\n",
            "\n"
          ]
        },
        {
          "output_type": "execute_result",
          "data": {
            "text/plain": [
              "'Prediction result is Fall(+)'"
            ],
            "application/vnd.google.colaboratory.intrinsic+json": {
              "type": "string"
            }
          },
          "metadata": {},
          "execution_count": 1
        }
      ],
      "source": [
        "# Example of making predictions\n",
        "from math import sqrt\n",
        " \n",
        "# calculate the Euclidean distance between two vectors\n",
        "#     Euclidean Distance = sqrt(sum i to N (x1_i – x2_i)^2)\n",
        "# Result:\n",
        "#    0.0\n",
        "#    1.3290173915275787\n",
        "#    1.9494646655653247\n",
        "#    1.5591439385540549\n",
        "#    0.5356280721938492\n",
        "#    4.850940186986411\n",
        "#    2.592833759950511\n",
        "#    4.214227042632867\n",
        "#    6.522409988228337\n",
        "#    4.985585382449795\n",
        "def euclidean_distance(row1, row2):\n",
        "\tdistance = 0.0\n",
        "\tfor i in range(len(row1)-1):\n",
        "\t\tdistance += (row1[i] - row2[i])**2\n",
        "\treturn sqrt(distance)\n",
        " \n",
        "# Locate the most similar neighbors\n",
        "# Result\n",
        "#    [2.7810836, 2.550537003, 0]\n",
        "#    [3.06407232, 3.005305973, 0]\n",
        "#    [1.465489372, 2.362125076, 0]\n",
        "def get_neighbors(train, test_row, num_neighbors):\n",
        "\tdistances = list()\n",
        "\tfor train_row in train:\n",
        "\t\tdist = euclidean_distance(test_row, train_row)\n",
        "\t\tdistances.append((train_row, dist))\n",
        "\tdistances.sort(key=lambda tup: tup[1])\n",
        "\tneighbors = list()\n",
        "\tfor i in range(num_neighbors):\n",
        "\t\tneighbors.append(distances[i][0])\n",
        "\treturn neighbors\n",
        "\n",
        "  # Make a classification prediction with neighbors\n",
        "# - test_row is row 0\n",
        "# - num_neighbors is 3\n",
        "def predict_classification(train, test_row, num_neighbors):\n",
        "\tneighbors = get_neighbors(train, test_row, num_neighbors)\n",
        "\toutput_values = [row[-1] for row in neighbors]\n",
        "\tprediction = max(set(output_values), key=output_values.count)\n",
        "\treturn prediction\n",
        " \n",
        "\n",
        "# Test distance function\n",
        "dataset = [[7,6,5,5,6,7,0],\n",
        "  [1,2,3,2,1,3,0],\n",
        "\t[2,1,3,3,1,2,0],\n",
        "\t[1,1,2,3,2,2,0],\n",
        "  [2,2,3,3,2,1,0],\n",
        "\t[6,5,7,5,6,7,1],\n",
        "\t[5,6,6,6,5,7,1],\n",
        "\t[5,6,7,5,7,6,1],\n",
        "\t[7,6,7,6,5,6,1]]\n",
        "\n",
        "# row 0 (i.e., dataset[0]) is the one to be predicted\n",
        "prediction = predict_classification(dataset[1:], dataset[0], 3)\n",
        "\n",
        "# - Display predict result\n",
        "print('\\n')\n",
        "'Prediction result is Fall(+)' if prediction==1 else '\\nPrediction result is Not Fall(-)'"
      ]
    }
  ]
}